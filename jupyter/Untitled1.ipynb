{
 "cells": [
  {
   "cell_type": "code",
   "execution_count": 52,
   "id": "2a60fc12",
   "metadata": {},
   "outputs": [],
   "source": [
    "import os\n",
    "import torch\n",
    "import matplotlib.pyplot as plt\n",
    "import torch.nn.functional as F\n",
    "import torch.nn as nn\n",
    "\n",
    "from typing import Optional\n",
    "\n",
    "from pytorch3d.utils import ico_sphere\n",
    "import numpy as np\n",
    "from tqdm.notebook import tqdm\n",
    "\n",
    "# Util function for loading meshes\n",
    "from pytorch3d.io import load_ply, load_obj\n",
    "\n",
    "from pytorch3d.loss import (\n",
    "    chamfer_distance, \n",
    "    mesh_edge_loss, \n",
    "    mesh_laplacian_smoothing, \n",
    "    mesh_normal_consistency,\n",
    ")\n",
    "\n",
    "# Data structures and functions for rendering\n",
    "from pytorch3d.structures import Meshes\n",
    "from pytorch3d.renderer import (\n",
    "    look_at_view_transform,\n",
    "    FoVPerspectiveCameras, \n",
    "    PointLights, \n",
    "    DirectionalLights, \n",
    "    Materials, \n",
    "    RasterizationSettings, \n",
    "    MeshRenderer, \n",
    "    MeshRasterizer,  \n",
    "    SoftPhongShader,\n",
    "    SoftSilhouetteShader,\n",
    "    SoftPhongShader,\n",
    "    TexturesVertex,\n",
    "    TexturesAtlas,\n",
    "    TexturesUV\n",
    ")\n",
    "from pytorch3d.renderer.blending import (\n",
    "    hard_rgb_blend,\n",
    "    BlendParams\n",
    ")\n",
    "from pytorch3d.renderer.utils import TensorProperties\n",
    "from pytorch3d.common import Device\n",
    "from pytorch3d.renderer.mesh.rasterizer import Fragments\n",
    "from pytorch3d.ops import interpolate_face_attributes\n",
    "\n",
    "import chumpy\n",
    "# add path for demo utils functions \n",
    "import sys\n",
    "import os\n",
    "sys.path.append(os.path.abspath(''))\n",
    "from plot_image_grid import image_grid\n",
    "\n",
    "sys.path.append(os.path.abspath('../models/'))\n",
    "from FLAME import FLAME"
   ]
  },
  {
   "cell_type": "code",
   "execution_count": 72,
   "id": "4f8a3228",
   "metadata": {},
   "outputs": [],
   "source": [
    "def albedo_shading(\n",
    "    meshes, fragments, lights, cameras, materials, texels\n",
    ") -> torch.Tensor:\n",
    "    \"\"\"\n",
    "    Apply per pixel shading. First interpolate the vertex normals and\n",
    "    vertex coordinates using the barycentric coordinates to get the position\n",
    "    and normal at each pixel. Then compute the illumination for each pixel.\n",
    "    The pixel color is obtained by multiplying the pixel textures by the ambient\n",
    "    and diffuse illumination and adding the specular component.\n",
    "\n",
    "    Args:\n",
    "        meshes: Batch of meshes\n",
    "        fragments: Fragments named tuple with the outputs of rasterization\n",
    "        lights: Lights class containing a batch of lights\n",
    "        cameras: Cameras class containing a batch of cameras\n",
    "        materials: Materials class containing a batch of material properties\n",
    "        texels: texture per pixel of shape (N, H, W, K, 3)\n",
    "\n",
    "    Returns:\n",
    "        colors: (N, H, W, K, 3)\n",
    "    \"\"\"\n",
    "    verts = meshes.verts_packed()  # (V, 3)\n",
    "    faces = meshes.faces_packed()  # (F, 3)\n",
    "    vertex_normals = meshes.verts_normals_packed()  # (V, 3)\n",
    "    faces_verts = verts[faces]\n",
    "    faces_normals = vertex_normals[faces]\n",
    "    pixel_coords = interpolate_face_attributes(\n",
    "        fragments.pix_to_face, fragments.bary_coords, faces_verts\n",
    "    )\n",
    "    pixel_normals = interpolate_face_attributes(\n",
    "        fragments.pix_to_face, fragments.bary_coords, faces_normals\n",
    "    )\n",
    "    ambient, diffuse, specular = _apply_lighting(\n",
    "        pixel_coords, pixel_normals, lights, cameras, materials\n",
    "    )\n",
    "    colors = texels\n",
    "    return colors\n",
    "\n",
    "class HardAlbedoShader(nn.Module):\n",
    "    \"\"\"\n",
    "    Per pixel lighting - the lighting model is applied using the interpolated\n",
    "    coordinates and normals for each pixel. The blending function hard assigns\n",
    "    the color of the closest face for each pixel.\n",
    "\n",
    "    To use the default values, simply initialize the shader with the desired\n",
    "    device e.g.\n",
    "\n",
    "    .. code-block::\n",
    "\n",
    "        shader = HardPhongShader(device=torch.device(\"cuda:0\"))\n",
    "    \"\"\"\n",
    "\n",
    "    def __init__(\n",
    "        self,\n",
    "        device: \"cpu\",\n",
    "        cameras: Optional[TensorProperties] = None,\n",
    "        lights: Optional[TensorProperties] = None,\n",
    "        materials: Optional[Materials] = None,\n",
    "        blend_params: Optional[BlendParams] = None,\n",
    "    ) -> None:\n",
    "        super().__init__()\n",
    "        self.lights = lights if lights is not None else PointLights(device=device)\n",
    "        self.materials = (\n",
    "            materials if materials is not None else Materials(device=device)\n",
    "        )\n",
    "        self.cameras = cameras\n",
    "        self.blend_params = blend_params if blend_params is not None else BlendParams()\n",
    "\n",
    "    # pyre-fixme[14]: `to` overrides method defined in `Module` inconsistently.\n",
    "    def to(self, device: Device):\n",
    "        # Manually move to device modules which are not subclasses of nn.Module\n",
    "        cameras = self.cameras\n",
    "        if cameras is not None:\n",
    "            self.cameras = cameras.to(device)\n",
    "        self.materials = self.materials.to(device)\n",
    "        self.lights = self.lights.to(device)\n",
    "        return self\n",
    "\n",
    "\n",
    "    def forward(self, fragments: Fragments, meshes: Meshes, **kwargs) -> torch.Tensor:\n",
    "        cameras = kwargs.get(\"cameras\", self.cameras)\n",
    "        if cameras is None:\n",
    "            msg = \"Cameras must be specified either at initialization \\\n",
    "                or in the forward pass of HardAlbedoShader\"\n",
    "            raise ValueError(msg)\n",
    "\n",
    "        texels = meshes.sample_textures(fragments)\n",
    "        lights = kwargs.get(\"lights\", self.lights)\n",
    "        materials = kwargs.get(\"materials\", self.materials)\n",
    "        blend_params = kwargs.get(\"blend_params\", self.blend_params)\n",
    "        colors = texels\n",
    "        images = hard_rgb_blend(colors, fragments, blend_params)\n",
    "        return images"
   ]
  },
  {
   "cell_type": "code",
   "execution_count": 73,
   "id": "80206998",
   "metadata": {},
   "outputs": [],
   "source": [
    "if torch.cuda.is_available():\n",
    "    device = torch.device(\"cuda:0\")\n",
    "    torch.cuda.set_device(device)\n",
    "else:\n",
    "    device = torch.device(\"cpu\")"
   ]
  },
  {
   "cell_type": "code",
   "execution_count": 96,
   "id": "cf9c46cc",
   "metadata": {},
   "outputs": [],
   "source": [
    "verts, faces, aux = load_obj(\"../data/head_template_mesh.obj\")\n",
    "verts = verts[None, ...]\n",
    "uvcoords = aux.verts_uvs[None, ...]  # (N, V, 2)\n",
    "uvfaces = faces.textures_idx[None, ...]  # (N, F, 3)\n",
    "faces = faces.verts_idx[None, ...]\n",
    "\n",
    "#verts[:,:,2] *= -1\n",
    "\n",
    "grid = F.affine_grid(torch.eye(2,3).unsqueeze(0), (1, 2, 128, 128)).to(device)\n",
    "#grid = torch.cat([grid, torch.zeros_like(grid)[..., :1]], dim=-1)\n",
    "tex = TexturesUV(grid.to(device), uvfaces.to(device), uvcoords.to(device))\n",
    "\n",
    "mesh = Meshes(\n",
    "            verts=verts.to(device),\n",
    "            faces=faces.to(device),\n",
    "            textures=tex.to(device)\n",
    "        )"
   ]
  },
  {
   "cell_type": "code",
   "execution_count": 97,
   "id": "02eb250f",
   "metadata": {},
   "outputs": [],
   "source": [
    "verts = mesh.verts_packed()\n",
    "N = verts.shape[0]\n",
    "center = verts.mean(0)\n",
    "scale = max((verts - center).abs().max(0)[0])\n",
    "mesh.offset_verts_(-center)\n",
    "mesh.scale_verts_((1.0 / float(scale)));\n"
   ]
  },
  {
   "cell_type": "code",
   "execution_count": 98,
   "id": "562909af",
   "metadata": {},
   "outputs": [],
   "source": [
    "# Get a batch of viewing angles. \n",
    "elev = 0\n",
    "azim = 0\n",
    "\n",
    "lights = PointLights(device=device, location=[[0.0, 0.0, 3.0]])\n",
    "\n",
    "R, T = look_at_view_transform(dist=1.0, elev=elev, azim=azim)\n",
    "cameras = FoVPerspectiveCameras(device=device, R=R, T=T)\n",
    "\n",
    "\n",
    "raster_settings = RasterizationSettings(\n",
    "    image_size=128, \n",
    "    blur_radius=0.0, \n",
    "    faces_per_pixel=1, \n",
    ")\n",
    "\n",
    "renderer = MeshRenderer(\n",
    "    rasterizer=MeshRasterizer(\n",
    "        cameras=cameras, \n",
    "        raster_settings=raster_settings\n",
    "    ),\n",
    "    shader=HardAlbedoShader(\n",
    "        device=device, \n",
    "        cameras=cameras\n",
    "    )\n",
    ")\n",
    "\n",
    "target_images = renderer(mesh, cameras=cameras)\n"
   ]
  },
  {
   "cell_type": "code",
   "execution_count": 99,
   "id": "21b085ad",
   "metadata": {},
   "outputs": [
    {
     "data": {
      "text/plain": [
       "tensor([[[-1.,  0.,  0.],\n",
       "         [ 0.,  1.,  0.],\n",
       "         [ 0.,  0., -1.]]])"
      ]
     },
     "execution_count": 99,
     "metadata": {},
     "output_type": "execute_result"
    }
   ],
   "source": [
    "R"
   ]
  },
  {
   "cell_type": "code",
   "execution_count": 100,
   "id": "a653e324",
   "metadata": {},
   "outputs": [
    {
     "data": {
      "text/plain": [
       "tensor([[-0., -0., 1.]])"
      ]
     },
     "execution_count": 100,
     "metadata": {},
     "output_type": "execute_result"
    }
   ],
   "source": [
    "T"
   ]
  },
  {
   "cell_type": "code",
   "execution_count": 101,
   "id": "18067615",
   "metadata": {},
   "outputs": [
    {
     "name": "stderr",
     "output_type": "stream",
     "text": [
      "Clipping input data to the valid range for imshow with RGB data ([0..1] for floats or [0..255] for integers).\n"
     ]
    },
    {
     "data": {
      "text/plain": [
       "<matplotlib.image.AxesImage at 0x7f4420069bb0>"
      ]
     },
     "execution_count": 101,
     "metadata": {},
     "output_type": "execute_result"
    },
    {
     "data": {
      "image/png": "[encoded data removed]",
      "text/plain": [
       "<Figure size 432x288 with 1 Axes>"
      ]
     },
     "metadata": {
      "needs_background": "light"
     },
     "output_type": "display_data"
    }
   ],
   "source": [
    "plt.imshow(target_images.cpu()[0, ..., :3])"
   ]
  },
  {
   "cell_type": "code",
   "execution_count": 102,
   "id": "6ea14106",
   "metadata": {},
   "outputs": [
    {
     "data": {
      "text/plain": [
       "torch.Size([1, 128, 128, 3])"
      ]
     },
     "execution_count": 102,
     "metadata": {},
     "output_type": "execute_result"
    }
   ],
   "source": [
    "target_images.shape"
   ]
  },
  {
   "cell_type": "code",
   "execution_count": null,
   "id": "87e00454",
   "metadata": {},
   "outputs": [],
   "source": []
  }
 ],
 "metadata": {
  "kernelspec": {
   "display_name": "Python 3 (ipykernel)",
   "language": "python",
   "name": "python3"
  },
  "language_info": {
   "codemirror_mode": {
    "name": "ipython",
    "version": 3
   },
   "file_extension": ".py",
   "mimetype": "text/x-python",
   "name": "python",
   "nbconvert_exporter": "python",
   "pygments_lexer": "ipython3",
   "version": "3.8.8"
  }
 },
 "nbformat": 4,
 "nbformat_minor": 5
}
